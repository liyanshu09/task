{
 "cells": [
  {
   "cell_type": "code",
   "execution_count": 1,
   "metadata": {
    "collapsed": true
   },
   "outputs": [],
   "source": [
    "from bs4 import BeautifulSoup\n",
    "import requests\n",
    "import pandas as pd"
   ]
  },
  {
   "cell_type": "code",
   "execution_count": null,
   "metadata": {
    "collapsed": true
   },
   "outputs": [],
   "source": [
    "url = 'https://en.wikipedia.org/wiki/List_of_postal_codes_of_Canada:_M'\n",
    "html_doc = requests.get(url).text\n",
    "soup = BeautifulSoup(html_doc, 'html.parser')\n",
    "html_table = soup.find('table')\n",
    "table_rows = html_table.find_all('tr')\n",
    "\n",
    "# Add the rows into a dataframe\n",
    "l = []\n",
    "for tr in table_rows:  \n",
    "    td = tr.find_all('td')\n",
    "    row = [tr.text for tr in td]\n",
    "    l.append(row)\n",
    "toronto = pd.DataFrame(l, columns=[\"PostalCode\", \"Borough\",\"Neighborhood\"])\n",
    "\n",
    "# Remove unwanted rows and characters\n",
    "toronto = toronto[toronto.Borough != 'Not assigned']\n",
    "toronto.drop([0], axis=0, inplace=True)\n",
    "toronto['Neighborhood'] = toronto['Neighborhood'].str.rstrip('\\n')\n",
    "\n",
    "# Group rows by postal code and aggregate the neighborhoods\n",
    "toronto = toronto.groupby(['PostalCode', 'Borough']).agg([('neighborhood', ', '.join)])\n",
    "toronto.reset_index(inplace=True)\n",
    "toronto.columns = ['PostalCode', 'Borough', 'Neighborhood']\n",
    "\n",
    "# Rename neighborhoods that are \"not assigned\" with the name of the borough\n",
    "import numpy as np\n",
    "toronto['Neighborhood'] = np.where(toronto['Neighborhood'] == 'Not assigned', toronto['Borough'], toronto['Neighborhood'])\n",
    "toronto.loc[85]\n",
    "\n",
    "# Have a look at the resulting dataframe\n",
    "toronto.head()"
   ]
  }
 ],
 "metadata": {
  "kernelspec": {
   "display_name": "Python [conda root]",
   "language": "python",
   "name": "conda-root-py"
  },
  "language_info": {
   "codemirror_mode": {
    "name": "ipython",
    "version": 3
   },
   "file_extension": ".py",
   "mimetype": "text/x-python",
   "name": "python",
   "nbconvert_exporter": "python",
   "pygments_lexer": "ipython3",
   "version": "3.5.2"
  }
 },
 "nbformat": 4,
 "nbformat_minor": 1
}
