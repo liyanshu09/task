{
 "cells": [
  {
   "cell_type": "markdown",
   "metadata": {},
   "source": [
    "#1. Introduction\n",
    "Desserts are made from fermented batter or dough and cooked between two plates with patterns giving a unique impression of size, shape and surface. There are many different recipes depending on the type of dessert and the recipe used. Desserts are eaten all over the world, especially in Belgium, where there are more than a dozen regional varieties. Desserts can be fresh or commercial precooked and frozen and heated.\n",
    "\n",
    "#2.Background \n",
    "A successful dessert shop manufacturer wants to expand their footprint in North America, which is a potential market and provides a large number of opportunities to expand the dessert business. Their market research team has confirmed that they have decided to invest in downtown Toronto. They asked our data science company to find the right communities to franchise based on relevant data, exploration and analysis.\n",
    "\n",
    "#3. Problem statement\n",
    "Since Toronto is a large area, choosing the right location to open a dessert shop is crucial, because of high real estate prices, choosing the right location is crucial to avoid business losses. If they choose the right region, it could hurt their expansion plans in North America.\n",
    "\n",
    "#4. Data requirements\n",
    "List Toronto's neighborhoods by borough. This information will come from wikipedia. Geospatial information for each zip code from a CSV file. A list of places in each community that will be available from the foursquare API.\n",
    "\n",
    "#5,.Results and discussion\n",
    "The result of our analysis is that cluster 1 and cluster 4 have a high-density coffee shop, restaurant, coffee shop cluster 2, 3 and 5 with only one neighborhood in group 1 church and Wellesley, relson, and garden area, which seem to be suitable places, because their low rent index is in group 5, and Cabbagetown and Harbour Front seem to be suitable places. The seaport hotel in particular seems interesting because it has breakfast and bakeries and desserts could be a potential item. Other neighborhoods have relatively high rental indexes, which can be a risky proposition if business isn't doing well.\n",
    "\n",
    "#6.Conclusion\n",
    "The purpose of our project is to find a suitable block for the establishment of a dessert franchise in downtown Toronto, so that the customer management of the dessert company can narrow down to the appropriate area and start their franchise business. Using the Foursquare API, we were able to identify nearby locations, and then using the k-means clustering algorithm, we were able to group data based on feature similarity to find the right location. Of course, the final choice will be made by the European dessert manufacturers based on business/legal parameters, market research, customer taste and so on.\n",
    "\n"
   ]
  }
 ],
 "metadata": {
  "anaconda-cloud": {},
  "kernelspec": {
   "display_name": "Python [conda root]",
   "language": "python",
   "name": "conda-root-py"
  },
  "language_info": {
   "codemirror_mode": {
    "name": "ipython",
    "version": 3
   },
   "file_extension": ".py",
   "mimetype": "text/x-python",
   "name": "python",
   "nbconvert_exporter": "python",
   "pygments_lexer": "ipython3",
   "version": "3.5.2"
  }
 },
 "nbformat": 4,
 "nbformat_minor": 1
}
